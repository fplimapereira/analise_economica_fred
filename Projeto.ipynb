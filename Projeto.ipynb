{
 "cells": [
  {
   "cell_type": "markdown",
   "id": "06823e33",
   "metadata": {},
   "source": [
    "# <center>Análise de dados Econômicos do banco FRED"
   ]
  },
  {
   "cell_type": "markdown",
   "id": "4f6322ba",
   "metadata": {},
   "source": [
    "![](capa.jpg)"
   ]
  },
  {
   "cell_type": "markdown",
   "id": "df31ee50",
   "metadata": {},
   "source": [
    "### 1- Preparando imports e demais configurações do projeto"
   ]
  },
  {
   "cell_type": "markdown",
   "id": "cb6ef8b7",
   "metadata": {},
   "source": [
    "### 1.1- Instalando Fred API"
   ]
  },
  {
   "cell_type": "code",
   "execution_count": 6,
   "id": "76277d55",
   "metadata": {},
   "outputs": [
    {
     "name": "stdout",
     "output_type": "stream",
     "text": [
      "Collecting fredapi\n",
      "  Downloading fredapi-0.5.0-py3-none-any.whl (11 kB)\n",
      "Requirement already satisfied: pandas in c:\\users\\felipe\\anaconda3\\lib\\site-packages (from fredapi) (1.3.4)\n",
      "Requirement already satisfied: pytz>=2017.3 in c:\\users\\felipe\\anaconda3\\lib\\site-packages (from pandas->fredapi) (2021.3)\n",
      "Requirement already satisfied: python-dateutil>=2.7.3 in c:\\users\\felipe\\anaconda3\\lib\\site-packages (from pandas->fredapi) (2.8.2)\n",
      "Requirement already satisfied: numpy>=1.17.3 in c:\\users\\felipe\\anaconda3\\lib\\site-packages (from pandas->fredapi) (1.20.3)\n",
      "Requirement already satisfied: six>=1.5 in c:\\users\\felipe\\anaconda3\\lib\\site-packages (from python-dateutil>=2.7.3->pandas->fredapi) (1.16.0)\n",
      "Installing collected packages: fredapi\n",
      "Successfully installed fredapi-0.5.0\n"
     ]
    }
   ],
   "source": [
    "!pip install fredapi"
   ]
  },
  {
   "cell_type": "markdown",
   "id": "29914ae6",
   "metadata": {},
   "source": [
    "### 1.2- Importando bibliotecas"
   ]
  },
  {
   "cell_type": "code",
   "execution_count": 9,
   "id": "5bdbdbc9",
   "metadata": {},
   "outputs": [],
   "source": [
    "import pandas as pd\n",
    "import numpy as np\n",
    "import matplotlib.pyplot as plt\n",
    "import plotly.express as px\n",
    "from fredapi import Fred\n",
    "from config import api_key"
   ]
  },
  {
   "cell_type": "markdown",
   "id": "99dd7f58",
   "metadata": {},
   "source": [
    "### 1.3- Customizando configurações"
   ]
  },
  {
   "cell_type": "code",
   "execution_count": 8,
   "id": "1e24e308",
   "metadata": {},
   "outputs": [],
   "source": [
    "#Estilo de gráficos Matplotlib\n",
    "plt.style.use('fivethirtyeight')\n",
    "#Aumentando número de colunas em visualização no pandas\n",
    "pd.set_option('max_columns', 500)\n",
    "#Definindo paleta de cores\n",
    "color_pal = plt.rcParams['axes.prop_cycle'].by_key()['color']"
   ]
  },
  {
   "cell_type": "markdown",
   "id": "39e6250f",
   "metadata": {},
   "source": [
    "### 1.4- Criando o objeto Fred"
   ]
  },
  {
   "cell_type": "code",
   "execution_count": 10,
   "id": "5d90c745",
   "metadata": {},
   "outputs": [],
   "source": [
    "fred = Fred(api_key=api_key)"
   ]
  },
  {
   "cell_type": "code",
   "execution_count": null,
   "id": "a5846821",
   "metadata": {},
   "outputs": [],
   "source": []
  }
 ],
 "metadata": {
  "kernelspec": {
   "display_name": "Python 3 (ipykernel)",
   "language": "python",
   "name": "python3"
  },
  "language_info": {
   "codemirror_mode": {
    "name": "ipython",
    "version": 3
   },
   "file_extension": ".py",
   "mimetype": "text/x-python",
   "name": "python",
   "nbconvert_exporter": "python",
   "pygments_lexer": "ipython3",
   "version": "3.9.7"
  }
 },
 "nbformat": 4,
 "nbformat_minor": 5
}
